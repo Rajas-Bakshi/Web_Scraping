{
 "cells": [
  {
   "cell_type": "markdown",
   "metadata": {},
   "source": [
    "## <p style=\"color:blue\">Commands to Setup DataBase</p>\n",
    "\n",
    "### Download package information from all configured sources.\n",
    "\n",
    "`> sudo apt update`\n",
    "\n",
    "\n",
    "### Install MariaDB using below commands.\n",
    "\n",
    "`> apt-get install software-properties-common`\n",
    "\n",
    "`> apt-key adv --recv-keys --keyserver hkp://keyserver.ubuntu.com:80 0xF1656F24C74CD1D8`\n",
    "\n",
    "`> add-apt-repository \"deb [arch=amd64,arm64,ppc64el] http://mariadb.mirror.liquidtelecom.com/repo/10.4/ubuntu $(lsb_release -cs) main\"`\n",
    "\n",
    "`> apt-get update -y`\n",
    "\n",
    "`> apt-get install mariadb-server -y`\n",
    "\n",
    "\n",
    "### Cofigure MariaDB using the command below.\n",
    "\n",
    "`> sudo mysql_secure_installation`\n",
    "\n",
    "#### Use following settings for your configuration\n",
    "\n",
    "```\n",
    "Enter current password for root (enter for none): Provide your root user password\n",
    "Switch to unix_socket authentication [Y/n] n\n",
    "Change the root password? [Y/n] Y\n",
    "New password:\n",
    "Re-enter new password:\n",
    "Remove anonymous users? [Y/n] Y\n",
    "Disallow root login remotely? [Y/n] Y\n",
    "Remove test database and access to it? [Y/n] Y\n",
    "Reload privilege tables now? [Y/n] Y\n",
    "```\n",
    "\n",
    "### Access DataBase as root.\n",
    "`> mysql -u root -p`\n",
    "\n",
    "### Create New user *rajas1*\n",
    "\n",
    "`> CREATE USER 'rajas1'@'localhost' IDENTIFIED BY 'Pass#123';`\n",
    "\n",
    "### Grant all privilages to *rajas1*\n",
    "\n",
    "`> GRANT ALL PRIVILEGES ON *.* TO 'rajas1'@'localhost' IDENTIFIED BY 'Pass#123';`\n",
    "\n",
    "### Flush Privilages.\n",
    "\n",
    "`> FLUSH PRIVILEGES;`\n",
    "\n",
    "### Create new Database *C00265741*\n",
    "\n",
    "`> CREATE DATABASE C00265741;`\n",
    "\n",
    "### Use Database *C00265741* for futher operations.\n",
    "\n",
    "`> USE C00265741;`\n",
    "\n",
    "### Create New Table *Persons*\n",
    "\n",
    "`CREATE TABLE C00265741.Persons(\n",
    "    PrimeMinister varchar(255),\n",
    "    Rank varchar(255),\n",
    "    Party varchar(255),\n",
    "    StartDate date,\n",
    "    EndDate date,\n",
    "    DOB date\n",
    ");` \n",
    "\n",
    "### Create New Table *Monarchs*\n",
    "\n",
    "`CREATE TABLE C00265741.Monarchs(\n",
    "    Monarch varchar(255),\n",
    "    StartDate date,\n",
    "    EndDate date\n",
    "    );` "
   ]
  },
  {
   "cell_type": "markdown",
   "metadata": {},
   "source": [
    "!pip install gazpacho\n",
    "!pip install PyMySql\n",
    "!pip install tabulate"
   ]
  },
  {
   "cell_type": "code",
   "execution_count": 26,
   "metadata": {},
   "outputs": [],
   "source": [
    "import pandas as pd\n",
    "from time import sleep\n",
    "from datetime import datetime as dt\n",
    "import re\n",
    "import libDatabase as db                  #Script used as Library, build on PyMySql to insert data in Mysql Tables and handle exceptions. \n",
    "from tabulate import tabulate\n",
    "import matplotlib.pyplot as plt\n",
    "import seaborn as sns\n",
    "from gazpacho import get, Soup\n",
    "\n",
    "%matplotlib inline"
   ]
  },
  {
   "cell_type": "markdown",
   "metadata": {},
   "source": [
    "#### Credentials for DB"
   ]
  },
  {
   "cell_type": "code",
   "execution_count": 27,
   "metadata": {},
   "outputs": [],
   "source": [
    "\n",
    "host=\"localhost\"\n",
    "port=1234\n",
    "user_name = \"root\"\n",
    "password = \"student\"\n",
    "schema_=\"C00265741\"\n",
    "\n",
    "#db.open_database(host=host, port=port, user_name = user_name,password = password, schema_=schema_)\n"
   ]
  },
  {
   "cell_type": "code",
   "execution_count": 28,
   "metadata": {
    "scrolled": true
   },
   "outputs": [],
   "source": [
    "URL = \"https://en.wikipedia.org/wiki/List_of_prime_ministers_of_the_United_Kingdom#18th_century\"\n",
    "URL_1 = \"https://en.wikipedia.org\"\n",
    "\n",
    "soup = Soup(get(URL))\n",
    "data = soup.find(\"table\")\n",
    "imp_data = data[1].find(\"tr\")[2:]"
   ]
  },
  {
   "cell_type": "code",
   "execution_count": 29,
   "metadata": {},
   "outputs": [],
   "source": [
    "rank = \"Earl|Duke|Marquess|Lord|Viscount|Baron|Sir\"\n",
    "\n",
    "prime_minister = []\n",
    "prime_minister_2 = []\n",
    "prime_minister_1 = []\n",
    "year_of_start = []\n",
    "year_of_end = []\n",
    "party = []\n",
    "URL_S = []\n",
    "\n"
   ]
  },
  {
   "cell_type": "markdown",
   "metadata": {},
   "source": [
    "#### Scraping PM, Start Date, End Date, Rank and links for wikipedia page of individual PM"
   ]
  },
  {
   "cell_type": "code",
   "execution_count": 30,
   "metadata": {},
   "outputs": [],
   "source": [
    "\n",
    "i = 0\n",
    "list_i = []\n",
    "while i < len(imp_data)-1:\n",
    "    #print (i)\n",
    "    rowspan = imp_data[i].find(\"td\")[2].attrs.get(\"rowspan\")\n",
    "    list_i.append(i)\n",
    "    rowspan = int(rowspan)#if rowspan is not None else 1\n",
    "    if type(imp_data[i].find(\"td\")[2].find(\"a\"))  is list:\n",
    "        \n",
    "        if imp_data[i].find(\"td\")[2].find(\"a\")[0].text == \"Sir\":\n",
    "            #print(\"1sir\")\n",
    "            prime_minister = prime_minister + [imp_data[i].find(\"td\")[2].find(\"a\")[0].attrs.get(\"title\")+\", \" +imp_data[i].find(\"td\")[2].find(\"a\")[0].text]\n",
    "            \n",
    "        else:\n",
    "            prime_minister = prime_minister + [imp_data[i].find(\"td\")[2].find(\"a\")[0].attrs.get(\"title\")]#* rowspan\n",
    "        URL_S.append(URL_1 + imp_data[i].find(\"td\")[2].find(\"a\")[0].attrs.get(\"href\"))\n",
    "        #party = party + [imp_data[i].find(\"td\")[6].text]\n",
    "    \n",
    "    else:\n",
    "        \n",
    "        URL_S.append(URL_1 + imp_data[i].find(\"td\")[2].find(\"a\").attrs.get(\"href\"))\n",
    "        if imp_data[i].find(\"td\")[2].find(\"a\").text == \"Sir\":\n",
    "            #print(\"2sir\", i)\n",
    "            prime_minister = prime_minister + [imp_data[i].find(\"td\")[2].find(\"a\").attrs.get(\"title\") +\", \" + imp_data[i].find(\"td\")[2].find(\"a\").text]\n",
    "        else:    \n",
    "            prime_minister = prime_minister + [imp_data[i].find(\"td\")[2].find(\"a\").attrs.get(\"title\")]#* rowspan\n",
    "        \n",
    "        #party = party + [imp_data[i].find(\"td\")[6].find(\"a\").attrs.get(\"title\")]#* rowspan\n",
    "        #try:\n",
    "            #party = party + [imp_data[i].find(\"td\")[6].find(\"a\").attrs.get(\"title\")]#* rowspan\n",
    "        #except:\n",
    "            #party = party + [imp_data[i].find(\"td\")[6].find(\"a\")[0].attrs.get(\"title\")]\n",
    "            \n",
    "\n",
    "    party.append(imp_data[i].find(\"td\")[0].attrs.get(\"bgcolor\"))\n",
    "        \n",
    "        \n",
    "    if imp_data[i].find(\"td\")[3].strip(\"br\")[:-1] == \"See also § Main articles:\":\n",
    "        \n",
    "        year_of_start = year_of_start +[imp_data[i+1].find(\"td\")[0].strip(\"br\")] #* rowspan\n",
    "        year_of_end = year_of_end+[imp_data[i+1].find(\"td\")[1].strip(\"br\")]\n",
    "    else:\n",
    "        year_of_start = year_of_start +[imp_data[i].find(\"td\")[3].strip(\"br\")] #* rowspan\n",
    "        year_of_end = year_of_end+[imp_data[i].find(\"td\")[4].strip(\"br\")]\n",
    "        \n",
    "    i += rowspan\n",
    "    \n"
   ]
  },
  {
   "cell_type": "code",
   "execution_count": 31,
   "metadata": {},
   "outputs": [],
   "source": [
    "prime_minister_1 = [name.split(\",\")[0] for name in prime_minister]\n",
    "\n",
    "for name in prime_minister:\n",
    "    if len(name.split(\",\")) > 1:\n",
    "        prime_minister_2.append(re.findall(rank, name.split(\",\")[1])[0])\n",
    "    else:\n",
    "        prime_minister_2.append(\"No Rank\")\n",
    "\n",
    "year_of_start = [dt.strptime(date_time, '%d %B%Y').strftime(\"%Y-%m-%d\") for date_time in year_of_start]\n",
    "year_of_end[-1] = dt.now().strftime(\"%d %B%Y\")\n",
    "year_of_end = [dt.strptime(date_time, '%d %B%Y').strftime(\"%Y-%m-%d\") for date_time in year_of_end ]"
   ]
  },
  {
   "cell_type": "code",
   "execution_count": 32,
   "metadata": {
    "scrolled": true
   },
   "outputs": [
    {
     "data": {
      "text/html": [
       "<div>\n",
       "<style scoped>\n",
       "    .dataframe tbody tr th:only-of-type {\n",
       "        vertical-align: middle;\n",
       "    }\n",
       "\n",
       "    .dataframe tbody tr th {\n",
       "        vertical-align: top;\n",
       "    }\n",
       "\n",
       "    .dataframe thead th {\n",
       "        text-align: right;\n",
       "    }\n",
       "</style>\n",
       "<table border=\"1\" class=\"dataframe\">\n",
       "  <thead>\n",
       "    <tr style=\"text-align: right;\">\n",
       "      <th></th>\n",
       "      <th>Prime_Minister</th>\n",
       "      <th>URL</th>\n",
       "      <th>Rank</th>\n",
       "      <th>Party</th>\n",
       "      <th>Year_of_start</th>\n",
       "      <th>Year_of_end</th>\n",
       "    </tr>\n",
       "  </thead>\n",
       "  <tbody>\n",
       "    <tr>\n",
       "      <th>0</th>\n",
       "      <td>Robert Walpole</td>\n",
       "      <td>https://en.wikipedia.org/wiki/Robert_Walpole</td>\n",
       "      <td>Sir</td>\n",
       "      <td>Whig</td>\n",
       "      <td>1721-04-03</td>\n",
       "      <td>1742-02-11</td>\n",
       "    </tr>\n",
       "    <tr>\n",
       "      <th>1</th>\n",
       "      <td>Spencer Compton</td>\n",
       "      <td>https://en.wikipedia.org/wiki/Spencer_Compton,...</td>\n",
       "      <td>Earl</td>\n",
       "      <td>Whig</td>\n",
       "      <td>1742-02-16</td>\n",
       "      <td>1743-07-02</td>\n",
       "    </tr>\n",
       "    <tr>\n",
       "      <th>2</th>\n",
       "      <td>Henry Pelham</td>\n",
       "      <td>https://en.wikipedia.org/wiki/Henry_Pelham</td>\n",
       "      <td>No Rank</td>\n",
       "      <td>Whig</td>\n",
       "      <td>1743-08-27</td>\n",
       "      <td>1754-03-06</td>\n",
       "    </tr>\n",
       "    <tr>\n",
       "      <th>3</th>\n",
       "      <td>Thomas Pelham-Holles</td>\n",
       "      <td>https://en.wikipedia.org/wiki/Thomas_Pelham-Ho...</td>\n",
       "      <td>Duke</td>\n",
       "      <td>Whig</td>\n",
       "      <td>1754-03-16</td>\n",
       "      <td>1756-11-11</td>\n",
       "    </tr>\n",
       "    <tr>\n",
       "      <th>4</th>\n",
       "      <td>William Cavendish</td>\n",
       "      <td>https://en.wikipedia.org/wiki/William_Cavendis...</td>\n",
       "      <td>Duke</td>\n",
       "      <td>Whig</td>\n",
       "      <td>1756-11-16</td>\n",
       "      <td>1757-06-29</td>\n",
       "    </tr>\n",
       "  </tbody>\n",
       "</table>\n",
       "</div>"
      ],
      "text/plain": [
       "         Prime_Minister                                                URL  \\\n",
       "0        Robert Walpole       https://en.wikipedia.org/wiki/Robert_Walpole   \n",
       "1       Spencer Compton  https://en.wikipedia.org/wiki/Spencer_Compton,...   \n",
       "2          Henry Pelham         https://en.wikipedia.org/wiki/Henry_Pelham   \n",
       "3  Thomas Pelham-Holles  https://en.wikipedia.org/wiki/Thomas_Pelham-Ho...   \n",
       "4     William Cavendish  https://en.wikipedia.org/wiki/William_Cavendis...   \n",
       "\n",
       "      Rank Party Year_of_start Year_of_end  \n",
       "0      Sir  Whig    1721-04-03  1742-02-11  \n",
       "1     Earl  Whig    1742-02-16  1743-07-02  \n",
       "2  No Rank  Whig    1743-08-27  1754-03-06  \n",
       "3     Duke  Whig    1754-03-16  1756-11-11  \n",
       "4     Duke  Whig    1756-11-16  1757-06-29  "
      ]
     },
     "execution_count": 32,
     "metadata": {},
     "output_type": "execute_result"
    }
   ],
   "source": [
    "new_labels = ['Whig', 'Tory', 'Conservative', 'Liberal', 'Labour']\n",
    "old_labels = [\"#FF7F00\", \"#3333CC\", \"#0087DC\", \"#ffd700\", \"#E4003B\"]\n",
    "\n",
    "df = pd.DataFrame({\"Prime_Minister\":prime_minister_1, \"URL\": URL_S,\"Rank\":prime_minister_2 ,\"Party\":party,\"Year_of_start\": year_of_start, \"Year_of_end\":year_of_end})\n",
    "df['Party'] = df['Party'].replace(old_labels, new_labels)\n",
    "\n",
    "df.head()\n"
   ]
  },
  {
   "cell_type": "markdown",
   "metadata": {},
   "source": [
    "#### Looping through Wikipedia pages of every PM and scraping Date Of Brith"
   ]
  },
  {
   "cell_type": "code",
   "execution_count": 33,
   "metadata": {},
   "outputs": [],
   "source": [
    "DOB = []\n",
    "months = [\"January\", \"February\", \"March\", \"April\", \"May\", \"June\", \"July\", \"August\", \"September\", \"October\", \"November\", \"December\"]\n",
    "\n",
    "\n",
    "for idx, URL in enumerate (df.iloc[:,1]):\n",
    "#URL = df.iloc[1,1]\n",
    "\n",
    "    soup = Soup(get(URL))\n",
    "    data = soup.find(\"table\")\n",
    "    #print(df.iloc[idx,0],\"--\" , idx)\n",
    "\n",
    "    for dat in data:\n",
    "        if dat.attrs.get(\"class\") == \"infobox vcard\":\n",
    "            if type(dat.find(\"tr\")) is list:\n",
    "                for row in dat.find(\"tr\"):\n",
    "                    if row.find(\"th\") is not None:\n",
    "                        if type(row.find(\"th\")) is list:\n",
    "                            for new_rows in row.find(\"th\"):\n",
    "                                if new_rows.find(\"th\").text == \"Born\":\n",
    "                                    #print(df.iloc[idx,0], \"-->\",row[0].find(\"td\").strip(\"br\"))\n",
    "                                    DOB.append(df.iloc[idx,0], \"-->\",row[0].find(\"td\").strip(\"br\"))\n",
    "\n",
    "                        else:\n",
    "                            \n",
    "                            if row.find(\"th\").text == \"Born\":\n",
    "                                D_O_B =  row.find(\"td\").strip(\"br\")\n",
    "                                if D_O_B[D_O_B.find(\"(\") + 1: D_O_B.find(\"(\") + 11][0].isalpha() == False:\n",
    "                                    #print(D_O_B[D_O_B.find(\"(\") + 1: D_O_B.find(\"(\") + 11])\n",
    "                                    DOB.append(D_O_B[D_O_B.find(\"(\") + 1: D_O_B.find(\"(\") + 11])\n",
    "                                \n",
    "                                else:\n",
    "                                    if D_O_B[D_O_B.find(\"(\") + 1: D_O_B.find(\"(\") + 11] == \"c. 1674Com\":\n",
    "                                        #print(\"1674-01-01\")\n",
    "                                        DOB.append(\"1674-01-01\")\n",
    "                                    for month in months:\n",
    "                                        if D_O_B.find(month) > 0:\n",
    "                                            #print(dt.strptime(D_O_B[D_O_B.find(month) + -2: D_O_B.find(month) +len(month) +5], '%d %B %Y').strftime('%Y-%m-%d'))\n",
    "                                            DOB.append(dt.strptime(D_O_B[D_O_B.find(month) + -2: D_O_B.find(month) +len(month) +5], '%d %B %Y').strftime('%Y-%m-%d'))\n",
    "                                     \n",
    "            else:\n",
    "                \n",
    "                print(df.iloc[idx,1])\n",
    "                #print (data)\n",
    "                print(\"-----------------\")\n",
    "                DOB.append(\"NA\")\n",
    "\n",
    "\n",
    "\n",
    "        \n",
    "        \n"
   ]
  },
  {
   "cell_type": "code",
   "execution_count": 34,
   "metadata": {},
   "outputs": [
    {
     "name": "stdout",
     "output_type": "stream",
     "text": [
      "<class 'pandas.core.frame.DataFrame'>\n",
      "RangeIndex: 77 entries, 0 to 76\n",
      "Data columns (total 7 columns):\n",
      " #   Column          Non-Null Count  Dtype \n",
      "---  ------          --------------  ----- \n",
      " 0   Prime_Minister  77 non-null     object\n",
      " 1   URL             77 non-null     object\n",
      " 2   Rank            77 non-null     object\n",
      " 3   Party           77 non-null     object\n",
      " 4   Year_of_start   77 non-null     object\n",
      " 5   Year_of_end     77 non-null     object\n",
      " 6   Date_Of_Birth   77 non-null     object\n",
      "dtypes: object(7)\n",
      "memory usage: 4.3+ KB\n"
     ]
    }
   ],
   "source": [
    "df[\"Date_Of_Birth\"] = DOB\n",
    "#df[\"Date_Of_Death\"] = DOD\n",
    "#df_PM.to_csv(\"sample2.csv\")\n",
    "df.info()\n"
   ]
  },
  {
   "cell_type": "code",
   "execution_count": 35,
   "metadata": {},
   "outputs": [
    {
     "data": {
      "text/plain": [
       "['George I 1714–1727',\n",
       " 'George II 1727–1760',\n",
       " 'George III 1760–1820',\n",
       " 'George IV 1820–1830',\n",
       " 'William IV 1830–1837',\n",
       " 'Victoria 1837–1901',\n",
       " 'Edward VII 1901–1910',\n",
       " 'George V 1910–1936',\n",
       " 'Edward VIII 1936–1936',\n",
       " 'George VI 1936–1952',\n",
       " 'Elizabeth II 1952–2020']"
      ]
     },
     "execution_count": 35,
     "metadata": {},
     "output_type": "execute_result"
    }
   ],
   "source": [
    "i = 0 \n",
    "dates = []\n",
    "Run_Flag = True\n",
    "\n",
    "while Run_Flag:\n",
    "    #print(i)\n",
    "    if type(imp_data[i].find(\"td\")) is list:\n",
    "        length = len(imp_data[i].find(\"td\"))\n",
    "        if length > 5:\n",
    "            rowspan = imp_data[i].find(\"td\")[-2].attrs.get(\"rowspan\")\n",
    "            rowspan = int(rowspan) if rowspan is not None else 1\n",
    "            dates.append(imp_data[i].find(\"td\")[-2].strip(\"p\"))\n",
    "        else:\n",
    "            rowspan = imp_data[i].find(\"td\")[-1].attrs.get(\"rowspan\")\n",
    "            rowspan = int(rowspan) if rowspan is not None else 1\n",
    "            dates.append(imp_data[i].find(\"td\")[-1].strip(\"p\"))\n",
    "            \n",
    "    else:\n",
    "        if imp_data[i].find(\"td\") is not None:\n",
    "            rowspan = imp_data[i].find(\"td\").attrs.get(\"rowspan\")\n",
    "            rowspan = int(rowspan) if rowspan is not None else 1\n",
    "            dates.append(imp_data[i].find(\"td\").strip(\"p\"))\n",
    "        else:\n",
    "            dates.append(imp_data[i].find(\"th\")[-1].strip(\"p\"))\n",
    "\n",
    "            \n",
    "        \n",
    "        \n",
    "    #dates.append(imp_data[i].find(\"td\")[-2].strip(\"p\").replace(imp_data[0].find(\"td\")[-2].text, \"\").replace(\" \", \"\").split(\"–\"))\n",
    "    #dates.append(imp_data[i].find(\"td\")[-2].strip(\"p\"))\n",
    "    i += rowspan\n",
    "    if dates[-1] == \"Elizabeth II 1952–present\":\n",
    "        dates[-1] = dates[-1].replace(\"present\", \"2020\")\n",
    "        Run_Flag = False\n",
    "\n",
    "#dates_1 = [dates.split(\" \")[:2] for dates in dates]\n",
    "dates[-3] += \"–1936\"\n",
    "dates"
   ]
  },
  {
   "cell_type": "code",
   "execution_count": 36,
   "metadata": {},
   "outputs": [],
   "source": [
    "monarch = list(map(lambda date: ''.join([i for i in date if i.isalpha()]), dates))\n",
    "date_1 = list(map(lambda date: ''.join([i for i in date if i.isdigit()]), dates))\n",
    "from_date = [date[:4] + \"-01-01\" for date in date_1]\n",
    "to_date = [date[4:]+\"-01-01\" for date in date_1]"
   ]
  },
  {
   "cell_type": "code",
   "execution_count": 37,
   "metadata": {},
   "outputs": [
    {
     "data": {
      "text/html": [
       "<div>\n",
       "<style scoped>\n",
       "    .dataframe tbody tr th:only-of-type {\n",
       "        vertical-align: middle;\n",
       "    }\n",
       "\n",
       "    .dataframe tbody tr th {\n",
       "        vertical-align: top;\n",
       "    }\n",
       "\n",
       "    .dataframe thead th {\n",
       "        text-align: right;\n",
       "    }\n",
       "</style>\n",
       "<table border=\"1\" class=\"dataframe\">\n",
       "  <thead>\n",
       "    <tr style=\"text-align: right;\">\n",
       "      <th></th>\n",
       "      <th>Monarch</th>\n",
       "      <th>Start_Date</th>\n",
       "      <th>End_Date</th>\n",
       "    </tr>\n",
       "  </thead>\n",
       "  <tbody>\n",
       "    <tr>\n",
       "      <th>0</th>\n",
       "      <td>GeorgeI</td>\n",
       "      <td>1714-01-01</td>\n",
       "      <td>1727-01-01</td>\n",
       "    </tr>\n",
       "    <tr>\n",
       "      <th>1</th>\n",
       "      <td>GeorgeII</td>\n",
       "      <td>1727-01-01</td>\n",
       "      <td>1760-01-01</td>\n",
       "    </tr>\n",
       "    <tr>\n",
       "      <th>2</th>\n",
       "      <td>GeorgeIII</td>\n",
       "      <td>1760-01-01</td>\n",
       "      <td>1820-01-01</td>\n",
       "    </tr>\n",
       "    <tr>\n",
       "      <th>3</th>\n",
       "      <td>GeorgeIV</td>\n",
       "      <td>1820-01-01</td>\n",
       "      <td>1830-01-01</td>\n",
       "    </tr>\n",
       "    <tr>\n",
       "      <th>4</th>\n",
       "      <td>WilliamIV</td>\n",
       "      <td>1830-01-01</td>\n",
       "      <td>1837-01-01</td>\n",
       "    </tr>\n",
       "  </tbody>\n",
       "</table>\n",
       "</div>"
      ],
      "text/plain": [
       "     Monarch  Start_Date    End_Date\n",
       "0    GeorgeI  1714-01-01  1727-01-01\n",
       "1   GeorgeII  1727-01-01  1760-01-01\n",
       "2  GeorgeIII  1760-01-01  1820-01-01\n",
       "3   GeorgeIV  1820-01-01  1830-01-01\n",
       "4  WilliamIV  1830-01-01  1837-01-01"
      ]
     },
     "execution_count": 37,
     "metadata": {},
     "output_type": "execute_result"
    }
   ],
   "source": [
    "df_monarch = pd.DataFrame({\"Monarch\": monarch, \"Start_Date\": from_date, \"End_Date\":to_date})\n",
    "#df_monarch.End_Date = pd.to_datetime(df_monarch.End_Date)\n",
    "#df_monarch.Start_Date = pd.to_datetime(df_monarch.Start_Date)\n",
    "df_monarch.to_csv(\"monarch.csv\")\n",
    "\n",
    "df_monarch.head()"
   ]
  },
  {
   "cell_type": "markdown",
   "metadata": {},
   "source": [
    "#### Inserting Data into DB"
   ]
  },
  {
   "cell_type": "code",
   "execution_count": 38,
   "metadata": {},
   "outputs": [],
   "source": [
    "from time import sleep\n",
    "db.open_database(host=host, port=port, user_name = user_name,password = password, schema_=schema_)\n",
    "sleep(2)\n",
    "for indx, rows in df.iterrows():\n",
    "    db.insert_person(rows[\"Prime_Minister\"], rows[\"Rank\"], rows[\"Party\"], rows[\"Year_of_start\"], rows[\"Year_of_end\"], rows[\"Date_Of_Birth\"])\n",
    "\n",
    "for indx, rows in df_monarch.iterrows():  \n",
    "    db.insert_monarch(rows['Monarch'],rows['Start_Date'], rows['End_Date'] )\n",
    "db.close_database()"
   ]
  },
  {
   "cell_type": "markdown",
   "metadata": {},
   "source": [
    "### Q1. Which political party has produced the most individual prime ministers?"
   ]
  },
  {
   "cell_type": "code",
   "execution_count": 39,
   "metadata": {},
   "outputs": [
    {
     "name": "stdout",
     "output_type": "stream",
     "text": [
      "Political party has produced the most individual prime ministers is: \u001b[1m Conservative \u001b[0m\n"
     ]
    }
   ],
   "source": [
    "db.open_database(host=host, port=port, user_name = user_name,password = password, schema_=schema_)\n",
    "out = db.db_cmd_execute(\"select distinct Party from C00265741.Persons ;\")\n",
    "list_of_parties = [party[0] for party in out]\n",
    "count_of_parties = []\n",
    "for party in list_of_parties:\n",
    "    count_of_parties.append(db.db_cmd_execute(\"select count(*) from C00265741.Persons where Party = '\"+ str(party) +\"' ;\")[0][0])\n",
    "\n",
    "print(\"Political party has produced the most individual prime ministers is: \\033[1m\", list_of_parties[count_of_parties.index(max(count_of_parties))], \"\\033[0m\")\n",
    "db.close_database()"
   ]
  },
  {
   "cell_type": "markdown",
   "metadata": {},
   "source": [
    "### Q2. Provide a list of prime ministers who served under each monarch."
   ]
  },
  {
   "cell_type": "code",
   "execution_count": 40,
   "metadata": {},
   "outputs": [
    {
     "name": "stdout",
     "output_type": "stream",
     "text": [
      "\u001b[1mGeorgeI\u001b[0m -->  \n",
      "Robert Walpole\n",
      "----------------------------------------------------------------------------------------------------\n",
      "\u001b[1mGeorgeII\u001b[0m -->  \n",
      "Spencer Compton\n",
      "Robert Walpole\n",
      "William Cavendish\n",
      "Henry Pelham\n",
      "Thomas Pelham-Holles\n",
      "----------------------------------------------------------------------------------------------------\n",
      "\u001b[1mGeorgeIII\u001b[0m -->  \n",
      "Spencer Perceval\n",
      "William Petty\n",
      "John Stuart\n",
      "Henry Addington\n",
      "William Pitt\n",
      "Thomas Pelham-Holles\n",
      "Charles Watson-Wentworth\n",
      "Frederick North\n",
      "George Grenville\n",
      "Augustus FitzRoy\n",
      "William Grenville\n",
      "Robert Jenkinson\n",
      "William Cavendish-Bentinck\n",
      "William Pitt the Younger\n",
      "----------------------------------------------------------------------------------------------------\n",
      "\u001b[1mGeorgeIV\u001b[0m -->  \n",
      "Robert Jenkinson\n",
      "George Canning\n",
      "F. J. Robinson\n",
      "Arthur Wellesley\n",
      "----------------------------------------------------------------------------------------------------\n",
      "\u001b[1mWilliamIV\u001b[0m -->  \n",
      "Charles Grey\n",
      "William Lamb\n",
      "Arthur Wellesley\n",
      "Robert Peel\n",
      "----------------------------------------------------------------------------------------------------\n",
      "\u001b[1mVictoria\u001b[0m -->  \n",
      "William Ewart Gladstone\n",
      "George Hamilton-Gordon\n",
      "Henry John Temple\n",
      "Robert Peel\n",
      "Archibald Primrose\n",
      "William Lamb\n",
      "Edward Smith-Stanley\n",
      "John Russell\n",
      "Benjamin Disraeli\n",
      "Robert Gascoyne-Cecil\n",
      "----------------------------------------------------------------------------------------------------\n",
      "\u001b[1mEdwardVII\u001b[0m -->  \n",
      "H. H. Asquith\n",
      "Henry Campbell-Bannerman\n",
      "Arthur Balfour\n",
      "Robert Gascoyne-Cecil\n",
      "----------------------------------------------------------------------------------------------------\n",
      "\u001b[1mGeorgeV\u001b[0m -->  \n",
      "H. H. Asquith\n",
      "Stanley Baldwin\n",
      "David Lloyd George\n",
      "Bonar Law\n",
      "Ramsay MacDonald\n",
      "----------------------------------------------------------------------------------------------------\n",
      "\u001b[1mEdwardVIII\u001b[0m -->  \n",
      "----------------------------------------------------------------------------------------------------\n",
      "\u001b[1mGeorgeVI\u001b[0m -->  \n",
      "Clement Attlee\n",
      "Stanley Baldwin\n",
      "Neville Chamberlain\n",
      "Winston Churchill\n",
      "----------------------------------------------------------------------------------------------------\n",
      "\u001b[1mElizabethII\u001b[0m -->  \n",
      "John Major\n",
      "Winston Churchill\n",
      "Margaret Thatcher\n",
      "Gordon Brown\n",
      "Edward Heath\n",
      "Anthony Eden\n",
      "David Cameron\n",
      "Harold Wilson\n",
      "Tony Blair\n",
      "Theresa May\n",
      "Harold Macmillan\n",
      "Alec Douglas-Home\n",
      "James Callaghan\n",
      "Boris Johnson\n",
      "----------------------------------------------------------------------------------------------------\n"
     ]
    }
   ],
   "source": [
    "db.open_database(host=host, port=port, user_name = user_name,password = password, schema_=schema_)\n",
    "list_of_monarch = db.db_cmd_execute(\"select Monarch from C00265741.Monarchs ;\")\n",
    "list_of_monarch = [monarch[0] for monarch in list_of_monarch]\n",
    "prime_ministers_monarch = {}\n",
    "prime_ministers_monarch_1 = {}\n",
    "\n",
    "for monarch in list_of_monarch:\n",
    "    prime_ministers = db.db_cmd_execute(\"SELECT * FROM C00265741.Persons \\\n",
    "            where StartDate > (SELECT StartDate FROM C00265741.Monarchs where Monarch = '\"+str(monarch)+\"') and \\\n",
    "            StartDate < (SELECT EndDate FROM C00265741.Monarchs where Monarch = '\"+str(monarch)+\"')\")\n",
    "    prime_ministers_monarch[monarch] = [minister[0] for minister in prime_ministers]\n",
    "    \n",
    "    prime_ministers = db.db_cmd_execute(\"SELECT * FROM C00265741.Persons \\\n",
    "            where EndDate > (SELECT StartDate FROM C00265741.Monarchs where Monarch = '\"+str(monarch)+\"') and \\\n",
    "            EndDate < (SELECT EndDate FROM C00265741.Monarchs where Monarch = '\"+str(monarch)+\"')\")\n",
    "    prime_ministers_monarch_1[monarch] = [minister[0] for minister in prime_ministers]\n",
    "\n",
    "    \n",
    "for key in prime_ministers_monarch:\n",
    "    temp = []\n",
    "    print(\"\\033[1m\" +key+ \"\\033[0m\", end = ' -->  \\n')\n",
    "\n",
    "    for name in prime_ministers_monarch[key]:\n",
    "        temp.append(name)\n",
    "        \n",
    "    for name in prime_ministers_monarch_1[key]:\n",
    "        temp.append(name)\n",
    "        \n",
    "    for name in set (temp):\n",
    "        pass\n",
    "        print(name)\n",
    "    print(\"--\"*50)\n",
    "    \n",
    "db.close_database()"
   ]
  },
  {
   "cell_type": "markdown",
   "metadata": {},
   "source": [
    "### Q3. Which political party held the office of prime minister for the longest amount of overall time, and for how long (in years, months, and days)?"
   ]
  },
  {
   "cell_type": "markdown",
   "metadata": {},
   "source": [
    "#### Function for converting Days to Year, Month and Days"
   ]
  },
  {
   "cell_type": "code",
   "execution_count": 41,
   "metadata": {},
   "outputs": [],
   "source": [
    "def find_year( number_of_days ):\n",
    "    if number_of_days is None:\n",
    "        return(0, 0, 0)\n",
    "    else:\n",
    "        number_of_days = int(number_of_days)\n",
    "        year = int(number_of_days / 365.25)\n",
    "        months = int(round((number_of_days  % 365.25) / 30.436875, 0))\n",
    "        days = int(round ((number_of_days  % 365.25) % 30.436875, 0))\n",
    "        return(year, months, days)"
   ]
  },
  {
   "cell_type": "code",
   "execution_count": 42,
   "metadata": {
    "scrolled": true
   },
   "outputs": [
    {
     "name": "stdout",
     "output_type": "stream",
     "text": [
      "Political party held the office of prime minister for the longest amount of overall time is: \u001b[1m Conservative \u001b[0m \n",
      "i.e for  94  Years  6  Months and  16  Days\n"
     ]
    }
   ],
   "source": [
    "db.open_database(host=host, port=port, user_name = user_name,password = password, schema_=schema_)\n",
    "\n",
    "number_of_days = []\n",
    "for party in list_of_parties:\n",
    "    term_start_end_dates = db.db_cmd_execute (\"SELECT sum(datediff(EndDate, StartDate)) FROM C00265741.Persons where Party = '\"+str(party)+\"'\")[0][0]\n",
    "    number_of_days.append(term_start_end_dates)\n",
    "duration = find_year(max(number_of_days))\n",
    "\n",
    "print(\"Political party held the office of prime minister for the longest amount of overall time is: \\033[1m\", \n",
    "      list_of_parties[number_of_days.index(max(number_of_days))], \"\\033[0m \\ni.e for \",duration[0],\" Years \",duration[1],\" Months and \",duration[2],\" Days\")\n",
    "\n",
    "db.close_database()"
   ]
  },
  {
   "cell_type": "markdown",
   "metadata": {},
   "source": [
    "### Q4. Which individual politician held the office of prime minister for the longest amount of uninterrupted time, and for how long (in years, months, and days)?"
   ]
  },
  {
   "cell_type": "code",
   "execution_count": 43,
   "metadata": {},
   "outputs": [
    {
     "name": "stdout",
     "output_type": "stream",
     "text": [
      "Prime Minister held the office of prime minister for the longest amount of of uninterrupted time is: \u001b[1m Robert Walpole \u001b[0m \n",
      "i.e for  20  Years  10  Months and  10  Days\n"
     ]
    }
   ],
   "source": [
    "db.open_database(host=host, port=port, user_name = user_name,password = password, schema_=schema_)\n",
    "\n",
    "out = db.db_cmd_execute (\"select PrimeMinister, datediff(EndDate, StartDate) from C00265741.Persons \\\n",
    "                    order by datediff(EndDate, StartDate) desc limit 1;\")[0]\n",
    "\n",
    "duration = find_year(out[1])\n",
    "\n",
    "print(\"Prime Minister held the office of prime minister for the longest amount of of uninterrupted time is: \\033[1m\",out[0], \"\\033[0m \\ni.e for \",duration[0],\" Years \",duration[1],\" Months and \",duration[2],\" Days\")\n",
    "\n",
    "db.close_database()"
   ]
  },
  {
   "cell_type": "markdown",
   "metadata": {},
   "source": [
    "### Q5. Which individual politician has held the office of prime ministers for the longest amount of overall time?"
   ]
  },
  {
   "cell_type": "code",
   "execution_count": 44,
   "metadata": {
    "scrolled": false
   },
   "outputs": [
    {
     "name": "stdout",
     "output_type": "stream",
     "text": [
      "Politician has held the office of prime ministers for the longest amount of overall time: \u001b[1m Robert Walpole \u001b[0m \n",
      "i.e for  20  Years  10  Months and  10  Days\n"
     ]
    }
   ],
   "source": [
    "db.open_database(host=host, port=port, user_name = user_name,password = password, schema_=schema_)\n",
    "\n",
    "out = db.db_cmd_execute(\"select distinct PrimeMinister from C00265741.Persons ;\")\n",
    "list_of_PrimeMinister = [minister[0] for minister in out]\n",
    "list_of_overall_time = []\n",
    "for minister in list_of_PrimeMinister:\n",
    "    out = db.db_cmd_execute(\"SELECT  sum(datediff(EndDate, StartDate))  FROM C00265741.Persons \\\n",
    "                                where PrimeMinister = '\"+ str(minister)+\"';\")[0][0]\n",
    "    list_of_overall_time.append(out)\n",
    "    \n",
    "df_temp = pd.DataFrame({\"PM\":list_of_PrimeMinister,\"time\":list_of_overall_time})\n",
    "overall_longest = df_temp[df_temp.time == df_temp.time.max()].values[0]  \n",
    "duration = find_year(int(overall_longest[1]))\n",
    "\n",
    "print(\"Politician has held the office of prime ministers for the longest amount of overall time: \\033[1m\",overall_longest[0], \"\\033[0m \\ni.e for \",duration[0],\" Years \",duration[1],\" Months and \",duration[2],\" Days\")\n",
    "\n",
    "db.close_database()\n",
    "\n"
   ]
  },
  {
   "cell_type": "markdown",
   "metadata": {},
   "source": [
    "### Q6. Which individual politician held the office of prime minister for the shortest amount of overall time, and for how long (in years, months, and days)?"
   ]
  },
  {
   "cell_type": "code",
   "execution_count": 45,
   "metadata": {},
   "outputs": [
    {
     "name": "stdout",
     "output_type": "stream",
     "text": [
      "Politician has held the office of prime ministers for the shortest amount of overall time: \u001b[1m George Canning \u001b[0m \n",
      "i.e for  0  Years  4  Months and  27  Days\n"
     ]
    }
   ],
   "source": [
    "db.open_database(host=host, port=port, user_name = user_name,password = password, schema_=schema_)\n",
    "\n",
    "out = db.db_cmd_execute(\"select distinct PrimeMinister from C00265741.Persons ;\")\n",
    "list_of_PrimeMinister = [minister[0] for minister in out]\n",
    "list_of_overall_time = []\n",
    "for minister in list_of_PrimeMinister:\n",
    "    out = db.db_cmd_execute(\"SELECT  sum(datediff(EndDate, StartDate))  FROM C00265741.Persons \\\n",
    "                                where PrimeMinister = '\"+ str(minister)+\"';\")[0][0]\n",
    "    list_of_overall_time.append(out)\n",
    "    \n",
    "df_temp = pd.DataFrame({\"PM\":list_of_PrimeMinister,\"time\":list_of_overall_time})\n",
    "overall_shortest = df_temp[df_temp.time == df_temp.time.min()].values[0]  \n",
    "duration = find_year(int(overall_shortest[1]))\n",
    "\n",
    "print(\"Politician has held the office of prime ministers for the shortest amount of overall time: \\033[1m\",overall_shortest[0], \"\\033[0m \\ni.e for \",duration[0],\" Years \",duration[1],\" Months and \",duration[2],\" Days\")\n",
    "\n",
    "db.close_database()\n"
   ]
  },
  {
   "cell_type": "markdown",
   "metadata": {},
   "source": [
    "### Q7. List the prime ministers who where either an earl, viscount, duke, or knight?"
   ]
  },
  {
   "cell_type": "code",
   "execution_count": 46,
   "metadata": {},
   "outputs": [
    {
     "name": "stdout",
     "output_type": "stream",
     "text": [
      "+----------------------------+----------+\n",
      "| Prime Minister             | Rank     |\n",
      "|----------------------------+----------|\n",
      "| John Russell               | Earl     |\n",
      "| William Lamb               | Viscount |\n",
      "| Edward Smith-Stanley       | Earl     |\n",
      "| Arthur Wellesley           | Duke     |\n",
      "| William Cavendish-Bentinck | Duke     |\n",
      "| John Stuart                | Earl     |\n",
      "| Augustus FitzRoy           | Duke     |\n",
      "| Winston Churchill          | Sir      |\n",
      "| William Pitt               | Earl     |\n",
      "| F. J. Robinson             | Viscount |\n",
      "| Henry John Temple          | Viscount |\n",
      "| William Cavendish          | Duke     |\n",
      "| William Petty              | Earl     |\n",
      "| Spencer Compton            | Earl     |\n",
      "| Thomas Pelham-Holles       | Duke     |\n",
      "| Archibald Primrose         | Earl     |\n",
      "| Robert Peel                | Sir      |\n",
      "| Robert Walpole             | Sir      |\n",
      "| Charles Grey               | Earl     |\n",
      "| Alec Douglas-Home          | Sir      |\n",
      "| Henry Campbell-Bannerman   | Sir      |\n",
      "| George Hamilton-Gordon     | Earl     |\n",
      "| Robert Jenkinson           | Earl     |\n",
      "| Anthony Eden               | Sir      |\n",
      "+----------------------------+----------+\n"
     ]
    }
   ],
   "source": [
    "db.open_database(host=host, port=port, user_name = user_name,password = password, schema_=schema_)\n",
    "\n",
    "ministers = db.db_cmd_execute(\"select PrimeMinister,Rank from C00265741.Persons \\\n",
    "                                where Rank = 'earl' or Rank = 'viscount' or Rank = 'duke' or \\\n",
    "                                Rank = 'Sir' order by Rank;\")\n",
    "print(tabulate(set(ministers),headers= [\"Prime Minister\", \"Rank\"], tablefmt=\"psql\"))\n",
    "    \n",
    "db.close_database()"
   ]
  },
  {
   "cell_type": "markdown",
   "metadata": {},
   "source": [
    "### Q8. What age was each prime minister on the day they assumed office?"
   ]
  },
  {
   "cell_type": "code",
   "execution_count": 47,
   "metadata": {},
   "outputs": [
    {
     "name": "stdout",
     "output_type": "stream",
     "text": [
      "╒════════════════════════════╤════════════════════╤══════════════╤══════════════╤═════════════╕\n",
      "│ Prime Minister             │ Date of Assuming   │   Age(Years) │   Age(Month) │   Age(Days) │\n",
      "╞════════════════════════════╪════════════════════╪══════════════╪══════════════╪═════════════╡\n",
      "│ Robert Walpole             │ 1721-04-03         │           44 │            7 │           6 │\n",
      "├────────────────────────────┼────────────────────┼──────────────┼──────────────┼─────────────┤\n",
      "│ Spencer Compton            │ 1742-02-16         │           68 │            1 │          15 │\n",
      "├────────────────────────────┼────────────────────┼──────────────┼──────────────┼─────────────┤\n",
      "│ Henry Pelham               │ 1743-08-27         │           48 │           11 │           0 │\n",
      "├────────────────────────────┼────────────────────┼──────────────┼──────────────┼─────────────┤\n",
      "│ Thomas Pelham-Holles       │ 1754-03-16         │           60 │            8 │          24 │\n",
      "├────────────────────────────┼────────────────────┼──────────────┼──────────────┼─────────────┤\n",
      "│ William Cavendish          │ 1756-11-16         │           36 │            6 │           9 │\n",
      "├────────────────────────────┼────────────────────┼──────────────┼──────────────┼─────────────┤\n",
      "│ Thomas Pelham-Holles       │ 1757-06-29         │           63 │           11 │           7 │\n",
      "├────────────────────────────┼────────────────────┼──────────────┼──────────────┼─────────────┤\n",
      "│ John Stuart                │ 1762-05-26         │           49 │            0 │           1 │\n",
      "├────────────────────────────┼────────────────────┼──────────────┼──────────────┼─────────────┤\n",
      "│ George Grenville           │ 1763-04-16         │           50 │            6 │           1 │\n",
      "├────────────────────────────┼────────────────────┼──────────────┼──────────────┼─────────────┤\n",
      "│ Charles Watson-Wentworth   │ 1765-07-13         │           35 │            2 │           0 │\n",
      "├────────────────────────────┼────────────────────┼──────────────┼──────────────┼─────────────┤\n",
      "│ William Pitt               │ 1766-07-30         │           57 │            8 │          13 │\n",
      "├────────────────────────────┼────────────────────┼──────────────┼──────────────┼─────────────┤\n",
      "│ Augustus FitzRoy           │ 1768-10-14         │           33 │            1 │          17 │\n",
      "├────────────────────────────┼────────────────────┼──────────────┼──────────────┼─────────────┤\n",
      "│ Frederick North            │ 1770-01-28         │           37 │           10 │          16 │\n",
      "├────────────────────────────┼────────────────────┼──────────────┼──────────────┼─────────────┤\n",
      "│ Charles Watson-Wentworth   │ 1782-03-27         │           51 │           10 │          14 │\n",
      "├────────────────────────────┼────────────────────┼──────────────┼──────────────┼─────────────┤\n",
      "│ William Petty              │ 1782-07-04         │           45 │            2 │           2 │\n",
      "├────────────────────────────┼────────────────────┼──────────────┼──────────────┼─────────────┤\n",
      "│ William Cavendish-Bentinck │ 1783-04-02         │           44 │           12 │          18 │\n",
      "├────────────────────────────┼────────────────────┼──────────────┼──────────────┼─────────────┤\n",
      "│ William Pitt the Younger   │ 1783-12-19         │           24 │            7 │          22 │\n",
      "├────────────────────────────┼────────────────────┼──────────────┼──────────────┼─────────────┤\n",
      "│ Henry Addington            │ 1801-03-17         │           43 │           10 │          16 │\n",
      "├────────────────────────────┼────────────────────┼──────────────┼──────────────┼─────────────┤\n",
      "│ William Pitt the Younger   │ 1804-05-10         │           44 │           11 │          12 │\n",
      "├────────────────────────────┼────────────────────┼──────────────┼──────────────┼─────────────┤\n",
      "│ William Grenville          │ 1806-02-11         │           46 │            4 │          17 │\n",
      "├────────────────────────────┼────────────────────┼──────────────┼──────────────┼─────────────┤\n",
      "│ William Cavendish-Bentinck │ 1807-03-31         │           68 │           11 │          15 │\n",
      "├────────────────────────────┼────────────────────┼──────────────┼──────────────┼─────────────┤\n",
      "│ Spencer Perceval           │ 1809-10-04         │           46 │           11 │           2 │\n",
      "├────────────────────────────┼────────────────────┼──────────────┼──────────────┼─────────────┤\n",
      "│ Robert Jenkinson           │ 1812-06-08         │           42 │            0 │           0 │\n",
      "├────────────────────────────┼────────────────────┼──────────────┼──────────────┼─────────────┤\n",
      "│ George Canning             │ 1827-04-12         │           56 │           12 │          30 │\n",
      "├────────────────────────────┼────────────────────┼──────────────┼──────────────┼─────────────┤\n",
      "│ F. J. Robinson             │ 1827-08-31         │           44 │           10 │          28 │\n",
      "├────────────────────────────┼────────────────────┼──────────────┼──────────────┼─────────────┤\n",
      "│ Arthur Wellesley           │ 1828-01-22         │           58 │            9 │          21 │\n",
      "├────────────────────────────┼────────────────────┼──────────────┼──────────────┼─────────────┤\n",
      "│ Charles Grey               │ 1830-11-22         │           66 │            8 │           9 │\n",
      "├────────────────────────────┼────────────────────┼──────────────┼──────────────┼─────────────┤\n",
      "│ William Lamb               │ 1834-07-16         │           55 │            4 │           1 │\n",
      "├────────────────────────────┼────────────────────┼──────────────┼──────────────┼─────────────┤\n",
      "│ Arthur Wellesley           │ 1834-11-17         │           65 │            7 │          16 │\n",
      "├────────────────────────────┼────────────────────┼──────────────┼──────────────┼─────────────┤\n",
      "│ Robert Peel                │ 1834-12-10         │           46 │           10 │           3 │\n",
      "├────────────────────────────┼────────────────────┼──────────────┼──────────────┼─────────────┤\n",
      "│ William Lamb               │ 1835-04-18         │           56 │            1 │           3 │\n",
      "├────────────────────────────┼────────────────────┼──────────────┼──────────────┼─────────────┤\n",
      "│ Robert Peel                │ 1841-08-30         │           53 │            7 │          23 │\n",
      "├────────────────────────────┼────────────────────┼──────────────┼──────────────┼─────────────┤\n",
      "│ John Russell               │ 1846-06-30         │           53 │           10 │          10 │\n",
      "├────────────────────────────┼────────────────────┼──────────────┼──────────────┼─────────────┤\n",
      "│ Edward Smith-Stanley       │ 1852-02-23         │           52 │           11 │          26 │\n",
      "├────────────────────────────┼────────────────────┼──────────────┼──────────────┼─────────────┤\n",
      "│ George Hamilton-Gordon     │ 1852-12-19         │           68 │           11 │          21 │\n",
      "├────────────────────────────┼────────────────────┼──────────────┼──────────────┼─────────────┤\n",
      "│ Henry John Temple          │ 1855-02-06         │           70 │            4 │          16 │\n",
      "├────────────────────────────┼────────────────────┼──────────────┼──────────────┼─────────────┤\n",
      "│ Edward Smith-Stanley       │ 1858-02-20         │           58 │           11 │          23 │\n",
      "├────────────────────────────┼────────────────────┼──────────────┼──────────────┼─────────────┤\n",
      "│ Henry John Temple          │ 1859-06-12         │           74 │            8 │          20 │\n",
      "├────────────────────────────┼────────────────────┼──────────────┼──────────────┼─────────────┤\n",
      "│ John Russell               │ 1865-10-29         │           73 │            2 │          10 │\n",
      "├────────────────────────────┼────────────────────┼──────────────┼──────────────┼─────────────┤\n",
      "│ Edward Smith-Stanley       │ 1866-06-28         │           67 │            3 │          29 │\n",
      "├────────────────────────────┼────────────────────┼──────────────┼──────────────┼─────────────┤\n",
      "│ Benjamin Disraeli          │ 1868-02-27         │           63 │            2 │           6 │\n",
      "├────────────────────────────┼────────────────────┼──────────────┼──────────────┼─────────────┤\n",
      "│ William Ewart Gladstone    │ 1868-12-03         │           58 │           11 │           5 │\n",
      "├────────────────────────────┼────────────────────┼──────────────┼──────────────┼─────────────┤\n",
      "│ Benjamin Disraeli          │ 1874-02-20         │           69 │            2 │          30 │\n",
      "├────────────────────────────┼────────────────────┼──────────────┼──────────────┼─────────────┤\n",
      "│ William Ewart Gladstone    │ 1880-04-23         │           70 │            4 │          24 │\n",
      "├────────────────────────────┼────────────────────┼──────────────┼──────────────┼─────────────┤\n",
      "│ Robert Gascoyne-Cecil      │ 1885-06-23         │           55 │            5 │          19 │\n",
      "├────────────────────────────┼────────────────────┼──────────────┼──────────────┼─────────────┤\n",
      "│ William Ewart Gladstone    │ 1886-02-01         │           76 │            1 │           4 │\n",
      "├────────────────────────────┼────────────────────┼──────────────┼──────────────┼─────────────┤\n",
      "│ Robert Gascoyne-Cecil      │ 1886-07-25         │           56 │            6 │          20 │\n",
      "├────────────────────────────┼────────────────────┼──────────────┼──────────────┼─────────────┤\n",
      "│ William Ewart Gladstone    │ 1892-08-15         │           82 │            8 │          16 │\n",
      "├────────────────────────────┼────────────────────┼──────────────┼──────────────┼─────────────┤\n",
      "│ Archibald Primrose         │ 1894-03-05         │           46 │           10 │          29 │\n",
      "├────────────────────────────┼────────────────────┼──────────────┼──────────────┼─────────────┤\n",
      "│ Robert Gascoyne-Cecil      │ 1895-06-25         │           65 │            5 │          20 │\n",
      "├────────────────────────────┼────────────────────┼──────────────┼──────────────┼─────────────┤\n",
      "│ Arthur Balfour             │ 1902-07-12         │           53 │           12 │          16 │\n",
      "├────────────────────────────┼────────────────────┼──────────────┼──────────────┼─────────────┤\n",
      "│ Henry Campbell-Bannerman   │ 1905-12-05         │           69 │            3 │          27 │\n",
      "├────────────────────────────┼────────────────────┼──────────────┼──────────────┼─────────────┤\n",
      "│ H. H. Asquith              │ 1908-04-08         │           55 │            7 │          25 │\n",
      "├────────────────────────────┼────────────────────┼──────────────┼──────────────┼─────────────┤\n",
      "│ David Lloyd George         │ 1916-12-06         │           53 │           11 │          18 │\n",
      "├────────────────────────────┼────────────────────┼──────────────┼──────────────┼─────────────┤\n",
      "│ Bonar Law                  │ 1922-10-23         │           64 │            1 │           6 │\n",
      "├────────────────────────────┼────────────────────┼──────────────┼──────────────┼─────────────┤\n",
      "│ Stanley Baldwin            │ 1923-05-22         │           55 │           10 │          17 │\n",
      "├────────────────────────────┼────────────────────┼──────────────┼──────────────┼─────────────┤\n",
      "│ Ramsay MacDonald           │ 1924-01-22         │           57 │            3 │           9 │\n",
      "├────────────────────────────┼────────────────────┼──────────────┼──────────────┼─────────────┤\n",
      "│ Stanley Baldwin            │ 1924-11-04         │           57 │            3 │           1 │\n",
      "├────────────────────────────┼────────────────────┼──────────────┼──────────────┼─────────────┤\n",
      "│ Ramsay MacDonald           │ 1929-06-05         │           62 │            8 │          22 │\n",
      "├────────────────────────────┼────────────────────┼──────────────┼──────────────┼─────────────┤\n",
      "│ Stanley Baldwin            │ 1935-06-07         │           67 │           10 │           3 │\n",
      "├────────────────────────────┼────────────────────┼──────────────┼──────────────┼─────────────┤\n",
      "│ Neville Chamberlain        │ 1937-05-28         │           68 │            2 │           9 │\n",
      "├────────────────────────────┼────────────────────┼──────────────┼──────────────┼─────────────┤\n",
      "│ Winston Churchill          │ 1940-05-10         │           65 │            5 │           9 │\n",
      "├────────────────────────────┼────────────────────┼──────────────┼──────────────┼─────────────┤\n",
      "│ Clement Attlee             │ 1945-07-26         │           62 │            7 │          21 │\n",
      "├────────────────────────────┼────────────────────┼──────────────┼──────────────┼─────────────┤\n",
      "│ Winston Churchill          │ 1951-10-26         │           76 │           11 │          25 │\n",
      "├────────────────────────────┼────────────────────┼──────────────┼──────────────┼─────────────┤\n",
      "│ Anthony Eden               │ 1955-04-06         │           57 │           10 │          23 │\n",
      "├────────────────────────────┼────────────────────┼──────────────┼──────────────┼─────────────┤\n",
      "│ Harold Macmillan           │ 1957-01-10         │           62 │           11 │          29 │\n",
      "├────────────────────────────┼────────────────────┼──────────────┼──────────────┼─────────────┤\n",
      "│ Alec Douglas-Home          │ 1963-10-19         │           60 │            4 │          18 │\n",
      "├────────────────────────────┼────────────────────┼──────────────┼──────────────┼─────────────┤\n",
      "│ Harold Wilson              │ 1964-10-16         │           48 │            7 │           6 │\n",
      "├────────────────────────────┼────────────────────┼──────────────┼──────────────┼─────────────┤\n",
      "│ Edward Heath               │ 1970-06-19         │           53 │           11 │          10 │\n",
      "├────────────────────────────┼────────────────────┼──────────────┼──────────────┼─────────────┤\n",
      "│ Harold Wilson              │ 1974-03-04         │           57 │           12 │          23 │\n",
      "├────────────────────────────┼────────────────────┼──────────────┼──────────────┼─────────────┤\n",
      "│ James Callaghan            │ 1976-04-05         │           64 │            0 │           9 │\n",
      "├────────────────────────────┼────────────────────┼──────────────┼──────────────┼─────────────┤\n",
      "│ Margaret Thatcher          │ 1979-05-04         │           53 │            7 │          20 │\n",
      "├────────────────────────────┼────────────────────┼──────────────┼──────────────┼─────────────┤\n",
      "│ John Major                 │ 1990-11-28         │           47 │            8 │           1 │\n",
      "├────────────────────────────┼────────────────────┼──────────────┼──────────────┼─────────────┤\n",
      "│ Tony Blair                 │ 1997-05-02         │           43 │           12 │          26 │\n",
      "├────────────────────────────┼────────────────────┼──────────────┼──────────────┼─────────────┤\n",
      "│ Gordon Brown               │ 2007-06-27         │           56 │            4 │           5 │\n",
      "├────────────────────────────┼────────────────────┼──────────────┼──────────────┼─────────────┤\n",
      "│ David Cameron              │ 2010-05-11         │           43 │            7 │           1 │\n",
      "├────────────────────────────┼────────────────────┼──────────────┼──────────────┼─────────────┤\n",
      "│ Theresa May                │ 2016-07-13         │           59 │            9 │          11 │\n",
      "├────────────────────────────┼────────────────────┼──────────────┼──────────────┼─────────────┤\n",
      "│ Boris Johnson              │ 2019-07-24         │           55 │            1 │           4 │\n",
      "╘════════════════════════════╧════════════════════╧══════════════╧══════════════╧═════════════╛\n"
     ]
    }
   ],
   "source": [
    "db.open_database(host=host, port=port, user_name = user_name,password = password, schema_=schema_)\n",
    "\n",
    "out = db.db_cmd_execute(\"select PrimeMinister, StartDate, datediff(StartDate, DOB) from C00265741.Persons;\")\n",
    "out = [list(row[0:2])+ list(find_year(row[2])) for row in out]\n",
    "\n",
    "print(tabulate(out, tablefmt=\"fancy_grid\", headers=[\"Prime Minister\", \"Date of Assuming\", \"Age(Years)\", \"Age(Month)\", \"Age(Days)\"]))  \n",
    "db.close_database()"
   ]
  },
  {
   "cell_type": "markdown",
   "metadata": {},
   "source": [
    "### Q9. On the last day of their term of office, which politician was the oldest?"
   ]
  },
  {
   "cell_type": "code",
   "execution_count": 48,
   "metadata": {},
   "outputs": [
    {
     "name": "stdout",
     "output_type": "stream",
     "text": [
      "Oldest Politician on the last day of the term: \u001b[1m William Ewart Gladstone \u001b[0m \n",
      "i.e for  84  Years  2  Months and  2  Days\n"
     ]
    }
   ],
   "source": [
    "db.open_database(host=host, port=port, user_name = user_name,password = password, schema_=schema_)\n",
    "\n",
    "out = db.db_cmd_execute(\"select PrimeMinister, EndDate, datediff(EndDate, DOB) from C00265741.Persons;\")\n",
    "\n",
    "    \n",
    "df_temp = pd.DataFrame(out)\n",
    "age = df_temp.loc[df_temp[2] == df_temp[2].max(), :].values[0]\n",
    "duration = find_year(int(age[2]))\n",
    "\n",
    "print(\"Oldest Politician on the last day of the term: \\033[1m\",age[0], \"\\033[0m \\ni.e for \",duration[0],\" Years \",duration[1],\" Months and \",duration[2],\" Days\")\n",
    "\n",
    "db.close_database()"
   ]
  }
 ],
 "metadata": {
  "kernelspec": {
   "display_name": "Python 3",
   "language": "python",
   "name": "python3"
  },
  "language_info": {
   "codemirror_mode": {
    "name": "ipython",
    "version": 3
   },
   "file_extension": ".py",
   "mimetype": "text/x-python",
   "name": "python",
   "nbconvert_exporter": "python",
   "pygments_lexer": "ipython3",
   "version": "3.8.3"
  }
 },
 "nbformat": 4,
 "nbformat_minor": 4
}
